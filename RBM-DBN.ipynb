{
 "cells": [
  {
   "cell_type": "code",
   "execution_count": 1,
   "id": "64e6ea2a-9f54-4dc2-a6b4-241f89f80d64",
   "metadata": {},
   "outputs": [],
   "source": [
    "import numpy as np\n",
    "from scipy.special import expit  # sigmoid"
   ]
  },
  {
   "cell_type": "code",
   "execution_count": 2,
   "id": "a3cf5ffd-9a3c-44d7-8cce-f8091decf5ad",
   "metadata": {},
   "outputs": [],
   "source": [
    "import tensorflow as tf\n",
    "from tensorflow.keras.datasets import mnist\n",
    "\n",
    "(x_train, y_train), (x_test, y_test) = mnist.load_data()\n",
    "x_train, x_test = x_train / 255.0, x_test / 255.0  # Normalize data\n",
    "x_train = x_train.reshape(x_train.shape[0], -1)  # flatten"
   ]
  },
  {
   "cell_type": "code",
   "execution_count": 3,
   "id": "1c0af318-fe82-4f35-8428-43062edd7f09",
   "metadata": {},
   "outputs": [],
   "source": [
    "class RBM:\n",
    "    def __init__(self, n_visible, n_hidden):\n",
    "        self.W = np.random.randn(n_visible, n_hidden) * 0.1  # Weights\n",
    "        self.v_bias = np.zeros(n_visible)  # Visible layer bias\n",
    "        self.h_bias = np.zeros(n_hidden)  # Hidden layer bias\n",
    "\n",
    "        # Grads\n",
    "        self.W_grad = np.zeros(self.W.shape)\n",
    "        self.vbias_grad = np.zeros(n_visible)\n",
    "        self.hbias_grad = np.zeros(n_hidden)\n",
    "\n",
    "        self.n_hidden = n_hidden\n",
    "        self.n_visible = n_visible\n",
    "\n",
    "    def sigmoid(self, x):\n",
    "        # return 1 / (1 + np.exp(-x))\n",
    "        return expit(x)\n",
    "\n",
    "    def sample_h_given_v(self, v):\n",
    "        p = self.sigmoid(np.dot(v, self.W) + self.h_bias) # p(H | v)\n",
    "        h1_sample = np.random.binomial(1, p) # samples from p(H | v)\n",
    "        return p, h1_sample\n",
    "\n",
    "    def sample_v_given_h(self, h):\n",
    "        p = self.sigmoid(np.dot(h, self.W.T) + self.v_bias)  # p(V | h)\n",
    "        v1_sample = np.random.binomial(1, p)  # samples from p(V | h)\n",
    "        return p, v1_sample\n",
    "\n",
    "    def reconstruct(self, v):\n",
    "        ph0, h0 = self.sample_h_given_v(v)\n",
    "        pv1, v1 = self.sample_v_given_h(ph0)\n",
    "        return pv1\n",
    "        \n",
    "    def train(self, batch, learning_rate=0.5):\n",
    "\n",
    "        batch_size = batch.shape[0]\n",
    "        v0_sample = batch.reshape(batch_size, -1)\n",
    "\n",
    "        # Positive phase\n",
    "        h0_mean, h0_sample = self.sample_h_given_v(v0_sample)\n",
    "        W_grad = np.dot(v0_sample.T, h0_mean)\n",
    "        vbias_grad = np.sum(v0_sample, axis=0)\n",
    "        hbias_grad = np.sum(h0_mean, axis=0)\n",
    "\n",
    "        # Negative phase\n",
    "        v1_mean, v1_sample = self.sample_v_given_h(h0_sample)\n",
    "        h1_mean, h1_sample = self.sample_h_given_v(v1_sample)\n",
    "\n",
    "        W_grad -= np.dot(v1_mean.T, h1_mean)\n",
    "        vbias_grad = vbias_grad.astype(np.float64) - np.sum(v1_mean, axis=0).astype(np.float64)\n",
    "        hbias_grad = hbias_grad.astype(np.float64) - np.sum(h1_mean, axis=0).astype(np.float64)\n",
    "\n",
    "        self.W_grad = W_grad / batch_size\n",
    "        self.hbias_grad = hbias_grad / batch_size\n",
    "        self.vbias_grad = vbias_grad / batch_size\n",
    "\n",
    "        # Update parameters\n",
    "        self.W += learning_rate * self.W_grad\n",
    "        self.v_bias += learning_rate * self.vbias_grad\n",
    "        self.h_bias += learning_rate * self.hbias_grad\n",
    "\n",
    "\n",
    "        error = np.mean(\n",
    "            np.sum((v0_sample - v1_mean) ** 2, axis=1), axis=0\n",
    "        )  # sum of squared error averaged over the batch\n",
    "\n",
    "        return error"
   ]
  },
  {
   "cell_type": "code",
   "execution_count": 4,
   "id": "8385efa1-9db0-4972-a6de-222e570c44db",
   "metadata": {},
   "outputs": [],
   "source": [
    "rbm = RBM(784, 100)\n",
    "\n",
    "\n",
    "selected_imgs = x_train[[1, 6, 5, 12, 26, 35, 62, 52, 46, 4]]\n",
    "\n",
    "def get_batches(data, batch_size):\n",
    "    assert batch_size > 0 and batch_size <= len(data)\n",
    "    num_batches = math.ceil(data.shape[0] / batch_size)\n",
    "    for batch_num in range(num_batches):\n",
    "        yield data[batch_num * batch_size : (batch_num + 1) * batch_size]"
   ]
  },
  {
   "cell_type": "code",
   "execution_count": 5,
   "id": "82d9520c-a0d0-4abf-8366-5561d35d6ac6",
   "metadata": {},
   "outputs": [
    {
     "name": "stdout",
     "output_type": "stream",
     "text": [
      "Training error:  27463.51388249456  |  Training time:  8.015983819961548\n",
      "Training error:  21083.321280458036  |  Training time:  14.332769870758057\n",
      "Training error:  19749.07000902881  |  Training time:  20.37172794342041\n",
      "Training error:  19127.153609355144  |  Training time:  26.274585962295532\n",
      "Training error:  18716.484464810892  |  Training time:  32.132131814956665\n",
      "Training error:  18493.712960287397  |  Training time:  38.113117933273315\n",
      "Training error:  18365.82108522007  |  Training time:  43.95256781578064\n",
      "Training error:  18253.022466351078  |  Training time:  50.110790967941284\n",
      "Training error:  18162.456086477003  |  Training time:  56.24071979522705\n",
      "Training error:  18042.172123457945  |  Training time:  62.22619390487671\n"
     ]
    }
   ],
   "source": [
    "from time import time\n",
    "import math\n",
    "\n",
    "start_time = time()\n",
    "\n",
    "for i in range(10): # epochs\n",
    "    training_error = 0\n",
    "    for batch in get_batches(x_train, batch_size=50):\n",
    "        training_error += rbm.train(batch)\n",
    "\n",
    "    print(\"Training error: \", training_error, \" | \",  \"Training time: \", time() - start_time)"
   ]
  },
  {
   "cell_type": "code",
   "execution_count": 6,
   "id": "71973b2c-b382-4f9c-b072-0742f6f104fb",
   "metadata": {},
   "outputs": [
    {
     "data": {
      "image/png": "[encoded data removed]",
      "text/plain": [
       "<Figure size 2000x400 with 20 Axes>"
      ]
     },
     "metadata": {},
     "output_type": "display_data"
    }
   ],
   "source": [
    "import matplotlib.pyplot as plt\n",
    "\n",
    "def plot_images(rbm, images):\n",
    "    num_images = len(images)\n",
    "    plt.figure(figsize=(2 * num_images, 4))\n",
    "\n",
    "    for i, image in enumerate(images):\n",
    "        # Plot original images\n",
    "        plt.subplot(2, num_images, i + 1)\n",
    "        plt.imshow(image.reshape(28, 28), cmap=\"gray\")\n",
    "        plt.axis(\"off\")\n",
    "\n",
    "        # Plot reconstructed images\n",
    "        plt.subplot(2, num_images, num_images + i + 1)\n",
    "        reconstructed_image = rbm.reconstruct(image.reshape(28 * 28)).reshape(28, 28)\n",
    "        plt.imshow(reconstructed_image, cmap=\"gray\")\n",
    "        plt.axis(\"off\")\n",
    "\n",
    "    plt.figtext(0.1, 0.65, \"Original\", ha=\"center\", rotation=\"vertical\")\n",
    "    plt.figtext(0.1, 0.20, \"Reconstructed\", ha=\"center\", rotation=\"vertical\")\n",
    "\n",
    "    plt.show()\n",
    "\n",
    "plot_images(rbm, selected_imgs)"
   ]
  },
  {
   "cell_type": "markdown",
   "id": "09ddf586-d603-49bd-a610-6bda10e05dcf",
   "metadata": {},
   "source": [
    "The reconstructed image is a \"best guess\" of the original input based on the features learned by the DBN.\n",
    "If a DBN reconstructs images accurately, it indicates that it has learned meaningful features."
   ]
  },
  {
   "cell_type": "code",
   "execution_count": 7,
   "id": "b622b780-3075-4394-a060-4b251ee22a68",
   "metadata": {},
   "outputs": [
    {
     "data": {
      "image/png": "[encoded data removed]",
      "text/plain": [
       "<Figure size 400x400 with 4 Axes>"
      ]
     },
     "metadata": {},
     "output_type": "display_data"
    }
   ],
   "source": [
    "new_images = x_train[[245, 300]]\n",
    "\n",
    "plot_images(rbm, new_images)"
   ]
  },
  {
   "cell_type": "code",
   "execution_count": null,
   "id": "1e3d73aa-fca5-4ba8-bd22-274d9a6aa633",
   "metadata": {},
   "outputs": [],
   "source": []
  },
  {
   "cell_type": "markdown",
   "id": "53f8c6f3-a1f9-40b0-8660-41e181c6f9c8",
   "metadata": {},
   "source": [
    "# Implementing DBN"
   ]
  },
  {
   "cell_type": "code",
   "execution_count": 8,
   "id": "0c7f19ee-9f34-4c6f-a1c2-671d9d69203d",
   "metadata": {},
   "outputs": [],
   "source": [
    "class DBN:\n",
    "    def __init__(self, n_visible, sizes=[100, 100]):\n",
    "        self.rbms = []\n",
    "        self.n_layers = len(sizes)\n",
    "\n",
    "        # Initialize RBMs for each layer\n",
    "        for i in range(self.n_layers):\n",
    "            n_input = n_visible if i == 0 else sizes[i - 1]\n",
    "            self.rbms.append(RBM(n_input, sizes[i]))\n",
    "\n",
    "    def pretrain(self, data, epochs=10, batch_size=50, learning_rate=0.1):\n",
    "        input_data = data\n",
    "\n",
    "        for rbm in self.rbms:\n",
    "            print(\"Pre-training layer...\")\n",
    "            start_time = time()\n",
    "            for epoch in range(epochs):\n",
    "                training_error = 0\n",
    "                for batch in get_batches(input_data, batch_size):\n",
    "                    training_error += rbm.train(batch, learning_rate=learning_rate)\n",
    "                print(f\"Epoch {epoch+1}, Training error: {training_error}\")\n",
    "            print(f\"Layer pre-trained in {time() - start_time} seconds\")\n",
    "\n",
    "            # Use the learned representations (hidden activations) as input for the next layer\n",
    "            _, input_data = rbm.sample_h_given_v(input_data)"
   ]
  },
  {
   "cell_type": "code",
   "execution_count": 9,
   "id": "cffb439f-45b4-4871-a1a4-4b249214d025",
   "metadata": {},
   "outputs": [],
   "source": [
    "dbn = DBN(n_visible=784, sizes=[100, 100])"
   ]
  },
  {
   "cell_type": "code",
   "execution_count": 10,
   "id": "f16e9517-54be-4163-9ada-76167721d267",
   "metadata": {},
   "outputs": [
    {
     "name": "stdout",
     "output_type": "stream",
     "text": [
      "Pre-training layer...\n",
      "Epoch 1, Training error: 26574.500725103277\n",
      "Epoch 2, Training error: 19656.32376869614\n",
      "Epoch 3, Training error: 18238.90160799931\n",
      "Layer pre-trained in 20.349689960479736 seconds\n",
      "Pre-training layer...\n",
      "Epoch 1, Training error: 10284.843292704118\n",
      "Epoch 2, Training error: 7124.666412321912\n",
      "Epoch 3, Training error: 6473.466867107526\n",
      "Layer pre-trained in 5.9231321811676025 seconds\n"
     ]
    }
   ],
   "source": [
    "dbn.pretrain(data=x_train, epochs=3, batch_size=50, learning_rate=0.1)"
   ]
  },
  {
   "cell_type": "markdown",
   "id": "d1d8cffb-e8ac-418c-b312-c474e9aa16b9",
   "metadata": {},
   "source": [
    "# Fine Tuning the DBN"
   ]
  },
  {
   "cell_type": "code",
   "execution_count": 11,
   "id": "8292a388-91c0-4c29-bf2e-b54cf78fb4c9",
   "metadata": {},
   "outputs": [],
   "source": [
    "def softmax(x):\n",
    "    e_x = np.exp(x - np.max(x, axis=1, keepdims=True))\n",
    "    return e_x / np.sum(e_x, axis=1, keepdims=True)"
   ]
  },
  {
   "cell_type": "code",
   "execution_count": 12,
   "id": "7158745a-ba3c-45b4-92ba-e1de621fac80",
   "metadata": {},
   "outputs": [],
   "source": [
    "def fine_tune_dbn(dbn, x_train, y_train, epochs=10, batch_size=50, learning_rate=0.1):\n",
    "    n_classes = 10  \n",
    "    n_samples, n_features = x_train.shape\n",
    "    # Randomly initialize weights and biases for the softmax layer\n",
    "    softmax_weights = np.random.randn(dbn.rbms[-1].n_hidden, n_classes) * 0.1\n",
    "    softmax_biases = np.zeros(n_classes)\n",
    "\n",
    "    # Convert labels to one-hot encoding\n",
    "    y_train_onehot = np.eye(n_classes)[y_train]\n",
    "\n",
    "    for epoch in range(epochs):\n",
    "        for batch_idx in range(0, n_samples, batch_size):\n",
    "            # Get the batch\n",
    "            batch_x = x_train[batch_idx : batch_idx + batch_size]\n",
    "            batch_y = y_train_onehot[batch_idx : batch_idx + batch_size]\n",
    "\n",
    "            # Forward pass through the DBN to get the features\n",
    "            dbn_features = batch_x\n",
    "            for rbm in dbn.rbms:\n",
    "                dbn_features, _ = rbm.sample_h_given_v(dbn_features)\n",
    "\n",
    "            # Forward pass through the softmax layer\n",
    "            logits = np.dot(dbn_features, softmax_weights) + softmax_biases\n",
    "            probs = softmax(logits)\n",
    "\n",
    "            # Compute cross-entropy loss and gradients\n",
    "            loss = -np.mean(np.sum(batch_y * np.log(probs + 1e-8), axis=1))\n",
    "            grad_logits = (probs - batch_y) / batch_size\n",
    "\n",
    "            # Backpropagation: compute gradients\n",
    "            grad_softmax_weights = np.dot(dbn_features.T, grad_logits)\n",
    "            grad_softmax_biases = np.sum(grad_logits, axis=0)\n",
    "\n",
    "            # Update weights and biases\n",
    "            softmax_weights -= learning_rate * grad_softmax_weights\n",
    "            softmax_biases -= learning_rate * grad_softmax_biases\n",
    "\n",
    "        print(f\"Epoch {epoch+1}, Loss: {loss}\")\n",
    "\n",
    "    return softmax_weights, softmax_biases"
   ]
  },
  {
   "cell_type": "code",
   "execution_count": 13,
   "id": "f3781a4d-ece7-4f75-9b4c-146b2685ab9c",
   "metadata": {},
   "outputs": [
    {
     "name": "stdout",
     "output_type": "stream",
     "text": [
      "Epoch 1, Loss: 0.19823236328460933\n",
      "Epoch 2, Loss: 0.16116774539969106\n",
      "Epoch 3, Loss: 0.1442154415668443\n",
      "Epoch 4, Loss: 0.1332463631593757\n",
      "Epoch 5, Loss: 0.12522320790994798\n",
      "Epoch 6, Loss: 0.11900234846820741\n",
      "Epoch 7, Loss: 0.1140055089464379\n",
      "Epoch 8, Loss: 0.10988837531458122\n",
      "Epoch 9, Loss: 0.10642641410099182\n",
      "Epoch 10, Loss: 0.10346517456807595\n"
     ]
    }
   ],
   "source": [
    "softmax_weights, softmax_biases = fine_tune_dbn(\n",
    "    dbn, x_train, y_train, epochs=10, batch_size=50, learning_rate=0.1\n",
    ")"
   ]
  },
  {
   "cell_type": "markdown",
   "id": "ad81fc96-cc8c-4429-90a8-5cedaec159f4",
   "metadata": {},
   "source": [
    "We started with a great value of loss thanks to pre-training."
   ]
  },
  {
   "cell_type": "code",
   "execution_count": 14,
   "id": "47fe3411-f991-4169-8d4b-eee1ca3bf632",
   "metadata": {},
   "outputs": [],
   "source": [
    "def predict(dbn, softmax_weights, softmax_biases, image):\n",
    "    # Ensure the image is correctly shaped - flatten if it's 2D\n",
    "    if image.ndim == 2:\n",
    "        image = image.reshape(1, -1)\n",
    "\n",
    "    # Pass the image through the pretrained DBN to get features\n",
    "    dbn_features = image\n",
    "    for rbm in dbn.rbms:\n",
    "        dbn_features, _ = rbm.sample_h_given_v(dbn_features)\n",
    "\n",
    "    # Forward pass through the softmax layer\n",
    "    logits = np.dot(dbn_features, softmax_weights) + softmax_biases\n",
    "    probs = softmax(logits)\n",
    "\n",
    "    # Return the class with the highest probability\n",
    "    return np.argmax(probs, axis=1)"
   ]
  },
  {
   "cell_type": "code",
   "execution_count": 15,
   "id": "708f5d1a-db75-448a-80d9-3e44f12c3601",
   "metadata": {},
   "outputs": [
    {
     "name": "stdout",
     "output_type": "stream",
     "text": [
      "Predicted class: [8]\n"
     ]
    },
    {
     "data": {
      "image/png": "[encoded data removed]",
      "text/plain": [
       "<Figure size 200x200 with 1 Axes>"
      ]
     },
     "metadata": {},
     "output_type": "display_data"
    }
   ],
   "source": [
    "# Test the model\n",
    "\n",
    "image = x_test[355]\n",
    "plt.figure(figsize=(2, 2))\n",
    "plt.imshow(image, cmap=\"gray\")\n",
    "predicted_class = predict(dbn, softmax_weights, softmax_biases, image)\n",
    "print(\"Predicted class:\", predicted_class)"
   ]
  },
  {
   "cell_type": "code",
   "execution_count": 16,
   "id": "0a3ea285-ccfa-4c70-94cb-1ce1e1c75472",
   "metadata": {},
   "outputs": [
    {
     "name": "stdout",
     "output_type": "stream",
     "text": [
      "Model Accuracy: 92.06%\n"
     ]
    }
   ],
   "source": [
    "def evaluate_model(dbn, softmax_weights, softmax_biases, x_test, y_test):\n",
    "    predictions = np.array(\n",
    "        [predict(dbn, softmax_weights, softmax_biases, img) for img in x_test]\n",
    "    )\n",
    "    accuracy = np.mean(predictions.flatten() == y_test)\n",
    "    print(f\"Model Accuracy: {accuracy * 100:.2f}%\")\n",
    "\n",
    "\n",
    "evaluate_model(dbn, softmax_weights, softmax_biases, x_test, y_test)"
   ]
  },
  {
   "cell_type": "markdown",
   "id": "b77c10c6-0a51-47f5-8c24-56bc84f0dd77",
   "metadata": {},
   "source": [
    "What is next?\n",
    "\n",
    "1. Feature extraction\n",
    "- DBNs are excellent at learning hierarchical representations of data. These representations can be used as features in various machine learning tasks.\n",
    "2. Classification\n",
    "- Once a DBN has been trained, it can be fine-tuned for classification tasks. In the context of MNIST, this would involve adding a classification layer (e.g., a softmax layer) on top of the DBN and then training the network in a supervised manner to classify the digits.\n",
    "3. Generative Models\n",
    "- A well-trained DBN is a generative model that can sample from the distribution of the training data. This means you can use it to generate new data samples that resemble the original dataset.\n",
    "4. Anomaly Detection\n",
    "- Because DBNs learn the probability distribution of the input data, they can be used to detect anomalies or outliers."
   ]
  }
 ],
 "metadata": {
  "kernelspec": {
   "display_name": "Python 3 (ipykernel)",
   "language": "python",
   "name": "python3"
  },
  "language_info": {
   "codemirror_mode": {
    "name": "ipython",
    "version": 3
   },
   "file_extension": ".py",
   "mimetype": "text/x-python",
   "name": "python",
   "nbconvert_exporter": "python",
   "pygments_lexer": "ipython3",
   "version": "3.11.2"
  }
 },
 "nbformat": 4,
 "nbformat_minor": 5
}
