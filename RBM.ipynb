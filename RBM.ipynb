{
 "cells": [
  {
   "cell_type": "code",
   "execution_count": 1,
   "id": "64e6ea2a-9f54-4dc2-a6b4-241f89f80d64",
   "metadata": {},
   "outputs": [],
   "source": [
    "import numpy as np\n",
    "from scipy.special import expit  # sigmoid"
   ]
  },
  {
   "cell_type": "code",
   "execution_count": 2,
   "id": "a3cf5ffd-9a3c-44d7-8cce-f8091decf5ad",
   "metadata": {},
   "outputs": [],
   "source": [
    "import tensorflow as tf\n",
    "from tensorflow.keras.datasets import mnist\n",
    "\n",
    "(x_train, y_train), (x_test, y_test) = mnist.load_data()\n",
    "x_train, x_test = x_train / 255.0, x_test / 255.0  # Normalize data\n",
    "x_train = x_train.reshape(x_train.shape[0], -1)  # flatten"
   ]
  },
  {
   "cell_type": "code",
   "execution_count": 3,
   "id": "1c0af318-fe82-4f35-8428-43062edd7f09",
   "metadata": {},
   "outputs": [],
   "source": [
    "class RBM:\n",
    "    def __init__(self, n_visible, n_hidden):\n",
    "        self.W = np.random.randn(n_visible, n_hidden) * 0.1  # Weights\n",
    "        self.v_bias = np.zeros(n_visible)  # Visible layer bias\n",
    "        self.h_bias = np.zeros(n_hidden)  # Hidden layer bias\n",
    "\n",
    "        # Grads\n",
    "        self.W_grad = np.zeros(self.W.shape)\n",
    "        self.vbias_grad = np.zeros(n_visible)\n",
    "        self.hbias_grad = np.zeros(n_hidden)\n",
    "\n",
    "        self.n_hidden = n_hidden\n",
    "        self.n_visible = n_visible\n",
    "\n",
    "    def sigmoid(self, x):\n",
    "        # return 1 / (1 + np.exp(-x))\n",
    "        return expit(x)\n",
    "\n",
    "    def sample_h_given_v(self, v):\n",
    "        p = self.sigmoid(np.dot(v, self.W) + self.h_bias) # p(H | v)\n",
    "        h1_sample = np.random.binomial(1, p) # samples from p(H | v)\n",
    "        return p, h1_sample\n",
    "\n",
    "    def sample_v_given_h(self, h):\n",
    "        p = self.sigmoid(np.dot(h, self.W.T) + self.v_bias)  # p(V | h)\n",
    "        v1_sample = np.random.binomial(1, p)  # samples from p(V | h)\n",
    "        return p, v1_sample\n",
    "\n",
    "    def reconstruct(self, v):\n",
    "        ph0, h0 = self.sample_h_given_v(v)\n",
    "        pv1, v1 = self.sample_v_given_h(ph0)\n",
    "        return pv1\n",
    "        \n",
    "    def train(self, batch, learning_rate=0.5):\n",
    "\n",
    "        batch_size = batch.shape[0]\n",
    "        v0_sample = batch.reshape(batch_size, -1)\n",
    "\n",
    "        # Positive phase\n",
    "        h0_mean, h0_sample = self.sample_h_given_v(v0_sample)\n",
    "        W_grad = np.dot(v0_sample.T, h0_mean)\n",
    "        vbias_grad = np.sum(v0_sample, axis=0)\n",
    "        hbias_grad = np.sum(h0_mean, axis=0)\n",
    "\n",
    "        # Negative phase\n",
    "        v1_mean, v1_sample = self.sample_v_given_h(h0_sample)\n",
    "        h1_mean, h1_sample = self.sample_h_given_v(v1_sample)\n",
    "\n",
    "        W_grad -= np.dot(v1_mean.T, h1_mean)\n",
    "        vbias_grad = vbias_grad.astype(np.float64) - np.sum(v1_mean, axis=0).astype(np.float64)\n",
    "        hbias_grad = hbias_grad.astype(np.float64) - np.sum(h1_mean, axis=0).astype(np.float64)\n",
    "\n",
    "        self.W_grad = W_grad / batch_size\n",
    "        self.hbias_grad = hbias_grad / batch_size\n",
    "        self.vbias_grad = vbias_grad / batch_size\n",
    "\n",
    "        # Update parameters\n",
    "        self.W += learning_rate * self.W_grad\n",
    "        self.v_bias += learning_rate * self.vbias_grad\n",
    "        self.h_bias += learning_rate * self.hbias_grad\n",
    "\n",
    "\n",
    "        error = np.mean(\n",
    "            np.sum((v0_sample - v1_mean) ** 2, axis=1), axis=0\n",
    "        )  # sum of squared error averaged over the batch\n",
    "\n",
    "        return error"
   ]
  },
  {
   "cell_type": "code",
   "execution_count": 4,
   "id": "8385efa1-9db0-4972-a6de-222e570c44db",
   "metadata": {},
   "outputs": [],
   "source": [
    "rbm = RBM(784, 100)\n",
    "\n",
    "\n",
    "selected_imgs = x_train[[1, 6, 5, 12, 26, 35, 62, 52, 46, 4]]\n",
    "\n",
    "def get_batches(data, batch_size):\n",
    "    assert batch_size > 0 and batch_size <= len(data)\n",
    "    num_batches = math.ceil(data.shape[0] / batch_size)\n",
    "    for batch_num in range(num_batches):\n",
    "        yield data[batch_num * batch_size : (batch_num + 1) * batch_size]"
   ]
  },
  {
   "cell_type": "code",
   "execution_count": 5,
   "id": "82d9520c-a0d0-4abf-8366-5561d35d6ac6",
   "metadata": {},
   "outputs": [
    {
     "name": "stdout",
     "output_type": "stream",
     "text": [
      "Training error:  26831.75719059894  |  Training time:  9.39152216911316\n",
      "Training error:  20635.798843798908  |  Training time:  17.869680166244507\n",
      "Training error:  19255.591175086072  |  Training time:  25.36793804168701\n",
      "Training error:  18668.00451995719  |  Training time:  32.487967014312744\n",
      "Training error:  18295.073209951122  |  Training time:  39.54586124420166\n",
      "Training error:  18105.601291144518  |  Training time:  46.51612424850464\n",
      "Training error:  17981.325964303214  |  Training time:  53.278454065322876\n",
      "Training error:  17851.827191657536  |  Training time:  60.148078203201294\n",
      "Training error:  17749.638744873395  |  Training time:  68.96629524230957\n",
      "Training error:  17711.673054445913  |  Training time:  76.23609113693237\n"
     ]
    }
   ],
   "source": [
    "from time import time\n",
    "import math\n",
    "\n",
    "start_time = time()\n",
    "\n",
    "for i in range(10): # epochs\n",
    "    training_error = 0\n",
    "    for batch in get_batches(x_train, batch_size=50):\n",
    "        training_error += rbm.train(batch)\n",
    "\n",
    "    print(\"Training error: \", training_error, \" | \",  \"Training time: \", time() - start_time)"
   ]
  },
  {
   "cell_type": "code",
   "execution_count": 6,
   "id": "71973b2c-b382-4f9c-b072-0742f6f104fb",
   "metadata": {},
   "outputs": [
    {
     "data": {
      "image/png": "[encoded data removed]",
      "text/plain": [
       "<Figure size 2000x400 with 20 Axes>"
      ]
     },
     "metadata": {},
     "output_type": "display_data"
    }
   ],
   "source": [
    "import matplotlib.pyplot as plt\n",
    "\n",
    "def plot_images(rbm, images):\n",
    "    num_images = len(images)\n",
    "    plt.figure(figsize=(2 * num_images, 4))\n",
    "\n",
    "    for i, image in enumerate(images):\n",
    "        # Plot original images\n",
    "        plt.subplot(2, num_images, i + 1)\n",
    "        plt.imshow(image.reshape(28, 28), cmap=\"gray\")\n",
    "        plt.axis(\"off\")\n",
    "\n",
    "        # Plot reconstructed images\n",
    "        plt.subplot(2, num_images, num_images + i + 1)\n",
    "        reconstructed_image = rbm.reconstruct(image.reshape(28 * 28)).reshape(28, 28)\n",
    "        plt.imshow(reconstructed_image, cmap=\"gray\")\n",
    "        plt.axis(\"off\")\n",
    "\n",
    "    plt.figtext(0.1, 0.65, \"Original\", ha=\"center\", rotation=\"vertical\")\n",
    "    plt.figtext(0.1, 0.20, \"Reconstructed\", ha=\"center\", rotation=\"vertical\")\n",
    "\n",
    "    plt.show()\n",
    "\n",
    "plot_images(rbm, selected_imgs)"
   ]
  },
  {
   "cell_type": "markdown",
   "id": "09ddf586-d603-49bd-a610-6bda10e05dcf",
   "metadata": {},
   "source": [
    "The reconstructed image is a \"best guess\" of the original input based on the features learned by the DBN.\n",
    "If a DBN reconstructs images accurately, it indicates that it has learned meaningful features."
   ]
  },
  {
   "cell_type": "code",
   "execution_count": 7,
   "id": "b622b780-3075-4394-a060-4b251ee22a68",
   "metadata": {},
   "outputs": [
    {
     "data": {
      "image/png": "[encoded data removed]",
      "text/plain": [
       "<Figure size 400x400 with 4 Axes>"
      ]
     },
     "metadata": {},
     "output_type": "display_data"
    }
   ],
   "source": [
    "new_images = x_train[[245, 300]]\n",
    "\n",
    "plot_images(rbm, new_images)"
   ]
  },
  {
   "cell_type": "code",
   "execution_count": null,
   "id": "1e3d73aa-fca5-4ba8-bd22-274d9a6aa633",
   "metadata": {},
   "outputs": [],
   "source": []
  }
 ],
 "metadata": {
  "kernelspec": {
   "display_name": "Python 3 (ipykernel)",
   "language": "python",
   "name": "python3"
  },
  "language_info": {
   "codemirror_mode": {
    "name": "ipython",
    "version": 3
   },
   "file_extension": ".py",
   "mimetype": "text/x-python",
   "name": "python",
   "nbconvert_exporter": "python",
   "pygments_lexer": "ipython3",
   "version": "3.11.2"
  }
 },
 "nbformat": 4,
 "nbformat_minor": 5
}
